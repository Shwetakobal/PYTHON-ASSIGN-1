{
 "cells": [
  {
   "cell_type": "code",
   "execution_count": null,
   "id": "448f48bb-4319-420b-b6a2-7530cf34541b",
   "metadata": {},
   "outputs": [],
   "source": [
    "ASSIGNMENT NO: 1\n",
    "1.GUIDO VAN ROSSUM.\n",
    "2.It 2 it supports multiple programming paradigms beyond object-oriented programming, such as procedural and functional programing.\n",
    "3.Yes, Python is a case−sensitive programming language.means that it considers uppercase & lowercase letters differently.\n",
    "4.pyc: This is the file extension for compiled Python code files. \n",
    "5.Python is an interpreted language.\n",
    "6. a module, a function body, and a class definition. \n",
    "7.# character\n",
    "8. sys. version\n",
    "9.lambda.\n",
    "10.pip Install Packages.\n",
    "11. str(),sum(),super(),tuple()\n",
    "12.79 characters.\n",
    "13.1.Simple to Use and Understand. For newcomers, Python is simple to understand and use. \n",
    "      2.Free and Open-Source. Video Player is loading.\n",
    "      3.Productivity has Increased. \n",
    "      4.Interpreted Language. \n",
    "      5.Extensive library.\n",
    "      6.Dynamically Typed.\n",
    "      7.Portability. \n",
    "      8.Supportive community.\n",
    "     14.Python uses the dynamic memory allocation which is managed by the Heap data structure\n",
    "     15.1.Right-clicking This PC and going to Properties.\n",
    "          2.Clicking on the Advanced system settings in the menu on the left.\n",
    "          3.Clicking on the Environment Variables button on the bottom right.\n",
    "          4.In the System variables section, selecting the Path variable and clicking on Edit.\n"
   ]
  }
 ],
 "metadata": {
  "kernelspec": {
   "display_name": "Python 3 (ipykernel)",
   "language": "python",
   "name": "python3"
  },
  "language_info": {
   "codemirror_mode": {
    "name": "ipython",
    "version": 3
   },
   "file_extension": ".py",
   "mimetype": "text/x-python",
   "name": "python",
   "nbconvert_exporter": "python",
   "pygments_lexer": "ipython3",
   "version": "3.10.8"
  }
 },
 "nbformat": 4,
 "nbformat_minor": 5
}
